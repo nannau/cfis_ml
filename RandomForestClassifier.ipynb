{
 "cells": [
  {
   "cell_type": "markdown",
   "metadata": {},
   "source": [
    "# Random Forest Classifier for Dwarf and Giant stars in the CFIS crossmatched catalog\n",
    "## Author: Nic Annau, University of Victoria\n",
    "## Date: Summer, 2018\n",
    "## Requirements: catalogue.py\n"
   ]
  },
  {
   "cell_type": "code",
   "execution_count": 1,
   "metadata": {},
   "outputs": [
    {
     "name": "stderr",
     "output_type": "stream",
     "text": [
      "/opt/conda/lib/python2.7/site-packages/astropy/table/np_utils.py:19: RuntimeWarning: numpy.dtype size changed, may indicate binary incompatibility. Expected 96, got 88\n",
      "  from . import _np_utils\n",
      "/opt/conda/lib/python2.7/site-packages/astropy/io/ascii/fastbasic.py:9: RuntimeWarning: numpy.dtype size changed, may indicate binary incompatibility. Expected 96, got 88\n",
      "  from . import cparser\n",
      "Using TensorFlow backend.\n",
      "/opt/conda/lib/python2.7/site-packages/sklearn/ensemble/weight_boosting.py:29: DeprecationWarning: numpy.core.umath_tests is an internal NumPy module and should not be imported. It will be removed in a future NumPy release.\n",
      "  from numpy.core.umath_tests import inner1d\n"
     ]
    }
   ],
   "source": [
    "from catalogue import *"
   ]
  },
  {
   "cell_type": "markdown",
   "metadata": {},
   "source": [
    "## Load training data, see catalogue.py for load data function."
   ]
  },
  {
   "cell_type": "code",
   "execution_count": 2,
   "metadata": {},
   "outputs": [
    {
     "name": "stderr",
     "output_type": "stream",
     "text": [
      "/opt/conda/lib/python2.7/site-packages/pandas/core/frame.py:5085: SettingWithCopyWarning: \n",
      "A value is trying to be set on a copy of a slice from a DataFrame.\n",
      "Try using .loc[row_indexer,col_indexer] = value instead\n",
      "\n",
      "See the caveats in the documentation: http://pandas.pydata.org/pandas-docs/stable/indexing.html#indexing-view-versus-copy\n",
      "  self[col] = expressions.where(mask, this, that)\n"
     ]
    },
    {
     "name": "stdout",
     "output_type": "stream",
     "text": [
      "Total number of stars: 142750\n"
     ]
    }
   ],
   "source": [
    "inputs, outputs, error, df_original = load_data()\n",
    "print \"Total number of stars:\", inputs.shape[0]"
   ]
  },
  {
   "cell_type": "code",
   "execution_count": 3,
   "metadata": {
    "collapsed": true
   },
   "outputs": [],
   "source": [
    "# Select only the lowest error in logg\n",
    "logg_error_thres = 0.16\n",
    "\n",
    "# Apply above loegg error threshold. i.e. select only stars with good logg data\n",
    "logg_cut = (error['dlogg'] <= logg_error_thres)\n",
    "\n",
    "# Remove unecessary columns after applying cuts\n",
    "inputs = inputs[logg_cut].reset_index(drop=True)\n",
    "outputs = outputs[logg_cut].reset_index(drop=True)\n",
    "error = error[logg_cut].reset_index(drop=True)"
   ]
  },
  {
   "cell_type": "markdown",
   "metadata": {},
   "source": [
    "### Assign 'dwarf' or 'giant' for the classifier"
   ]
  },
  {
   "cell_type": "code",
   "execution_count": 4,
   "metadata": {},
   "outputs": [
    {
     "name": "stdout",
     "output_type": "stream",
     "text": [
      "Total number of stars after cuts: 129540\n"
     ]
    }
   ],
   "source": [
    "# For binary classification, we need to set the threshold for which\n",
    "# logg we decide is a dwarf or a giant\n",
    "outputs['logg_binary'] = np.where(outputs['logg'] > 3.5, 'dwarf', 'giant')\n",
    "\n",
    "print \"Total number of stars after cuts:\", inputs.shape[0]"
   ]
  },
  {
   "cell_type": "code",
   "execution_count": 5,
   "metadata": {
    "collapsed": true
   },
   "outputs": [],
   "source": [
    "# Shuffle the dataframes randomly\n",
    "seed = random.randint(1,101) # Get random integer to shuffle the inputs and outputs randomly, but the same way\n",
    "inputs = inputs.sample(frac=1, random_state = seed).reset_index(drop=True)\n",
    "outputs = outputs.sample(frac=1, random_state = seed).reset_index(drop=True)"
   ]
  },
  {
   "cell_type": "code",
   "execution_count": 6,
   "metadata": {
    "collapsed": true
   },
   "outputs": [],
   "source": [
    "# Normalize the data using custom normalize function\n",
    "# default is using mean and stdev. Errors use min_max method\n",
    "inputf = normalize(inputs)\n",
    "outputf = normalize(outputs)"
   ]
  },
  {
   "cell_type": "code",
   "execution_count": 7,
   "metadata": {},
   "outputs": [],
   "source": [
    "# Create the features and add to new dataframe\n",
    "inputs_col = pd.DataFrame()\n",
    "\n",
    "inputs_col['u-g']=inputf['u']-inputf['g']\n",
    "inputs_col['g-r']=inputf['g']-inputf['r']\n",
    "inputs_col['r-i']=inputf['r']-inputf['i']\n",
    "inputs_col['i-z']=inputf['i']-inputf['z']\n",
    "inputs_col['z-y']=inputf['z']-inputf['y']\n",
    "inputs_col['u-G']=inputf['u']-inputf['G']\n",
    "inputs_col['u-RP']=inputf['u']-inputf['RP']\n",
    "inputs_col['u-BP']=inputf['u']-inputf['BP']"
   ]
  },
  {
   "cell_type": "markdown",
   "metadata": {},
   "source": [
    "### Split the inputs and outputs into test and train datasets"
   ]
  },
  {
   "cell_type": "code",
   "execution_count": 8,
   "metadata": {
    "collapsed": true
   },
   "outputs": [],
   "source": [
    "# Split spectroscopic sample with colours\n",
    "inputf_train, inputf_test, outputf_train, outputf_test = train_test_split(inputs_col, outputf, test_size=0.2, random_state=42)\n",
    "# Split spectroscopic sample the same way but while preserving the above split\n",
    "input_full_train, input_full_test, output_full_train, output_full_test = train_test_split(inputf, outputf, test_size=0.2, random_state=42)"
   ]
  },
  {
   "cell_type": "markdown",
   "metadata": {},
   "source": [
    "### Encode the output features"
   ]
  },
  {
   "cell_type": "code",
   "execution_count": 9,
   "metadata": {},
   "outputs": [],
   "source": [
    "# Encode class values as integers\n",
    "\n",
    "# Encode train data\n",
    "encoder = LabelEncoder()\n",
    "encoder.fit(outputf_train['logg_binary'])\n",
    "encoded_Y_train = encoder.transform(outputf_train['logg_binary'])\n",
    "\n",
    "# Encode test data\n",
    "encoder = LabelEncoder()\n",
    "encoder.fit(outputf_test['logg_binary'])\n",
    "encoded_Y_test = encoder.transform(outputf_test['logg_binary'])\n",
    "\n",
    "# Results of fine tuning for RF\n",
    "param_grid = {\"n_estimators\": 593,\n",
    "              \"max_depth\": 15,\n",
    "              \"min_samples_split\": 2,\n",
    "              \"min_samples_leaf\": 1,\n",
    "              \"max_leaf_nodes\": 1850,\n",
    "              \"min_weight_fraction_leaf\": 0.1}"
   ]
  },
  {
   "cell_type": "markdown",
   "metadata": {
    "collapsed": true
   },
   "source": [
    "### Train the RF classifier"
   ]
  },
  {
   "cell_type": "code",
   "execution_count": 10,
   "metadata": {},
   "outputs": [
    {
     "name": "stderr",
     "output_type": "stream",
     "text": [
      "[Parallel(n_jobs=-1)]: Done  18 tasks      | elapsed:    0.4s\n",
      "[Parallel(n_jobs=-1)]: Done 168 tasks      | elapsed:    1.9s\n",
      "[Parallel(n_jobs=-1)]: Done 418 tasks      | elapsed:    4.4s\n",
      "[Parallel(n_jobs=-1)]: Done 593 out of 593 | elapsed:    6.2s finished\n"
     ]
    },
    {
     "data": {
      "text/plain": [
       "RandomForestClassifier(bootstrap=True, class_weight=None, criterion='gini',\n",
       "            max_depth=15, max_features='auto', max_leaf_nodes=1850,\n",
       "            min_impurity_decrease=0.0, min_impurity_split=None,\n",
       "            min_samples_leaf=2, min_samples_split=2,\n",
       "            min_weight_fraction_leaf=0.0, n_estimators=593, n_jobs=-1,\n",
       "            oob_score=False, random_state=None, verbose=1,\n",
       "            warm_start=False)"
      ]
     },
     "execution_count": 10,
     "metadata": {},
     "output_type": "execute_result"
    }
   ],
   "source": [
    "crf = sklearn.ensemble.RandomForestClassifier(n_estimators=593, max_depth=15, min_samples_leaf=2, max_leaf_nodes=1850, verbose=1, n_jobs=-1)\n",
    "crf.fit(inputf_train, encoded_Y_train)"
   ]
  },
  {
   "cell_type": "markdown",
   "metadata": {},
   "source": [
    "### Calibrate the probabilities predicted by the random forest."
   ]
  },
  {
   "cell_type": "code",
   "execution_count": 11,
   "metadata": {},
   "outputs": [
    {
     "name": "stderr",
     "output_type": "stream",
     "text": [
      "[Parallel(n_jobs=16)]: Done  18 tasks      | elapsed:    0.1s\n",
      "[Parallel(n_jobs=16)]: Done 168 tasks      | elapsed:    0.3s\n",
      "[Parallel(n_jobs=16)]: Done 418 tasks      | elapsed:    0.5s\n",
      "[Parallel(n_jobs=16)]: Done 593 out of 593 | elapsed:    0.7s finished\n"
     ]
    },
    {
     "data": {
      "text/plain": [
       "CalibratedClassifierCV(base_estimator=RandomForestClassifier(bootstrap=True, class_weight=None, criterion='gini',\n",
       "            max_depth=15, max_features='auto', max_leaf_nodes=1850,\n",
       "            min_impurity_decrease=0.0, min_impurity_split=None,\n",
       "            min_samples_leaf=2, min_samples_split=2,\n",
       "            min_weight_fraction_leaf=0.0, n_estimators=593, n_jobs=-1,\n",
       "            oob_score=False, random_state=None, verbose=1,\n",
       "            warm_start=False),\n",
       "            cv='prefit', method='sigmoid')"
      ]
     },
     "execution_count": 11,
     "metadata": {},
     "output_type": "execute_result"
    }
   ],
   "source": [
    "rf = CalibratedClassifierCV(base_estimator=crf, method='sigmoid', cv='prefit')\n",
    "rf.fit(inputf_train, encoded_Y_train)"
   ]
  },
  {
   "cell_type": "code",
   "execution_count": 12,
   "metadata": {},
   "outputs": [
    {
     "name": "stderr",
     "output_type": "stream",
     "text": [
      "[Parallel(n_jobs=16)]: Done  18 tasks      | elapsed:    0.2s\n",
      "[Parallel(n_jobs=16)]: Done 168 tasks      | elapsed:    0.3s\n",
      "[Parallel(n_jobs=16)]: Done 418 tasks      | elapsed:    0.5s\n",
      "[Parallel(n_jobs=16)]: Done 593 out of 593 | elapsed:    0.6s finished\n"
     ]
    },
    {
     "name": "stdout",
     "output_type": "stream",
     "text": [
      "F1 Score: 0.9579375848032563\n"
     ]
    },
    {
     "data": {
      "image/png": "[encoded data removed]",
      "text/plain": [
       "<Figure size 432x288 with 1 Axes>"
      ]
     },
     "metadata": {},
     "output_type": "display_data"
    }
   ],
   "source": [
    "pred = rf.predict(inputf_test)\n",
    "\n",
    "print \"F1 Score:\", sklearn.metrics.f1_score(encoded_Y_test, pred, average='binary')\n",
    "\n",
    "# Compute ROC curve and area the curve\n",
    "fpr, tpr, thresholds = roc_curve(encoded_Y_test, pred)\n",
    "\n",
    "roc_auc = auc(fpr, tpr)\n",
    "\n",
    "plt.figure()\n",
    "plt.plot(fpr, tpr, color='darkorange', lw=1, label='ROC curve (area = %0.2f)' % roc_auc)\n",
    "plt.plot([0, 1], [0, 1], color='navy', lw=2, linestyle='--')\n",
    "plt.xlim([0.0, 1.0])\n",
    "plt.ylim([0.0, 1.05])\n",
    "plt.xlabel('False Positive Rate')\n",
    "plt.ylabel('True Positive Rate')\n",
    "plt.title('Receiver operating characteristic')\n",
    "plt.legend(loc=\"lower right\")\n",
    "plt.show()"
   ]
  },
  {
   "cell_type": "markdown",
   "metadata": {
    "collapsed": true
   },
   "source": [
    "## Load the Globular Cluster data and do the following:\n",
    "1. Apply cuts to proper motion and colors to show relevent CMD area\n",
    "2. Remove any non-numbers\n",
    "3. Convert the raw globular cluster columns to features (convert to color)\n",
    "4. Normalize while convering to color\n",
    "5. Predict the probabilities of being a dwarf/giant\n",
    "6. Predict which class the prediction belongs to"
   ]
  },
  {
   "cell_type": "code",
   "execution_count": 13,
   "metadata": {},
   "outputs": [
    {
     "name": "stderr",
     "output_type": "stream",
     "text": [
      "[Parallel(n_jobs=16)]: Done  18 tasks      | elapsed:    0.0s\n",
      "[Parallel(n_jobs=16)]: Done 168 tasks      | elapsed:    0.1s\n",
      "[Parallel(n_jobs=16)]: Done 418 tasks      | elapsed:    0.2s\n",
      "[Parallel(n_jobs=16)]: Done 593 out of 593 | elapsed:    0.2s finished\n",
      "[Parallel(n_jobs=16)]: Done  18 tasks      | elapsed:    0.0s\n",
      "[Parallel(n_jobs=16)]: Done 168 tasks      | elapsed:    0.1s\n",
      "[Parallel(n_jobs=16)]: Done 418 tasks      | elapsed:    0.2s\n",
      "[Parallel(n_jobs=16)]: Done 593 out of 593 | elapsed:    0.2s finished\n",
      "[Parallel(n_jobs=16)]: Done  18 tasks      | elapsed:    0.0s\n",
      "[Parallel(n_jobs=16)]: Done 168 tasks      | elapsed:    0.1s\n",
      "[Parallel(n_jobs=16)]: Done 418 tasks      | elapsed:    0.2s\n",
      "[Parallel(n_jobs=16)]: Done 593 out of 593 | elapsed:    0.2s finished\n",
      "[Parallel(n_jobs=16)]: Done  18 tasks      | elapsed:    0.0s\n",
      "[Parallel(n_jobs=16)]: Done 168 tasks      | elapsed:    0.1s\n",
      "[Parallel(n_jobs=16)]: Done 418 tasks      | elapsed:    0.2s\n",
      "[Parallel(n_jobs=16)]: Done 593 out of 593 | elapsed:    0.3s finished\n",
      "[Parallel(n_jobs=16)]: Done  18 tasks      | elapsed:    0.0s\n",
      "[Parallel(n_jobs=16)]: Done 168 tasks      | elapsed:    0.1s\n",
      "[Parallel(n_jobs=16)]: Done 418 tasks      | elapsed:    0.2s\n",
      "[Parallel(n_jobs=16)]: Done 593 out of 593 | elapsed:    0.3s finished\n",
      "[Parallel(n_jobs=16)]: Done  18 tasks      | elapsed:    0.0s\n",
      "[Parallel(n_jobs=16)]: Done 168 tasks      | elapsed:    0.1s\n",
      "[Parallel(n_jobs=16)]: Done 418 tasks      | elapsed:    0.2s\n",
      "[Parallel(n_jobs=16)]: Done 593 out of 593 | elapsed:    0.3s finished\n",
      "[Parallel(n_jobs=16)]: Done  18 tasks      | elapsed:    0.0s\n",
      "[Parallel(n_jobs=16)]: Done 168 tasks      | elapsed:    0.1s\n",
      "[Parallel(n_jobs=16)]: Done 418 tasks      | elapsed:    0.1s\n",
      "[Parallel(n_jobs=16)]: Done 593 out of 593 | elapsed:    0.2s finished\n",
      "[Parallel(n_jobs=16)]: Done  18 tasks      | elapsed:    0.0s\n",
      "[Parallel(n_jobs=16)]: Done 168 tasks      | elapsed:    0.1s\n",
      "[Parallel(n_jobs=16)]: Done 418 tasks      | elapsed:    0.2s\n",
      "[Parallel(n_jobs=16)]: Done 593 out of 593 | elapsed:    0.2s finished\n",
      "[Parallel(n_jobs=16)]: Done  18 tasks      | elapsed:    0.0s\n",
      "[Parallel(n_jobs=16)]: Done 168 tasks      | elapsed:    0.1s\n",
      "[Parallel(n_jobs=16)]: Done 418 tasks      | elapsed:    0.2s\n",
      "[Parallel(n_jobs=16)]: Done 593 out of 593 | elapsed:    0.2s finished\n",
      "[Parallel(n_jobs=16)]: Done  18 tasks      | elapsed:    0.0s\n",
      "[Parallel(n_jobs=16)]: Done 168 tasks      | elapsed:    0.1s\n",
      "[Parallel(n_jobs=16)]: Done 418 tasks      | elapsed:    0.2s\n",
      "[Parallel(n_jobs=16)]: Done 593 out of 593 | elapsed:    0.3s finished\n",
      "[Parallel(n_jobs=16)]: Done  18 tasks      | elapsed:    0.0s\n",
      "[Parallel(n_jobs=16)]: Done 168 tasks      | elapsed:    0.1s\n",
      "[Parallel(n_jobs=16)]: Done 418 tasks      | elapsed:    0.2s\n",
      "[Parallel(n_jobs=16)]: Done 593 out of 593 | elapsed:    0.2s finished\n",
      "[Parallel(n_jobs=16)]: Done  18 tasks      | elapsed:    0.0s\n",
      "[Parallel(n_jobs=16)]: Done 168 tasks      | elapsed:    0.1s\n",
      "[Parallel(n_jobs=16)]: Done 418 tasks      | elapsed:    0.2s\n",
      "[Parallel(n_jobs=16)]: Done 593 out of 593 | elapsed:    0.2s finished\n"
     ]
    }
   ],
   "source": [
    "inputs_NGC6341 = load_data_glob('./data/CFIS_PSf_Gaia_NGC6341.fits')\n",
    "inputs_NGC6205 = load_data_glob('./data/CFIS_PSf_Gaia_NGC6205.fits')\n",
    "inputs_NGC5466 = load_data_glob('./data/CFIS_PSf_Gaia_NGC5466.fits')\n",
    "inputs_NGC5272 = load_data_glob('./data/CFIS_PSf_Gaia_NGC5272.fits')\n",
    "\n",
    "##############################\n",
    "## NGC 6341 ##\n",
    "##############################\n",
    "criteria = criteria_function(inputs_NGC6341, 0.2, 2.5, 0)\n",
    "inputs_NGC6341 = inputs_NGC6341[criteria]\n",
    "inputs_NGC6341 = (inputs_NGC6341.dropna())\n",
    "inputs_NGC6341_b = change_to_colour(inputs_NGC6341, inputs_col)\n",
    "inputs_NGC6341['dwarf'] =  rf.predict_proba(inputs_NGC6341_b.values)[:,0]\n",
    "inputs_NGC6341['giant'] =  rf.predict_proba(inputs_NGC6341_b.values)[:,1]\n",
    "inputs_NGC6341['class_binary'] =  rf.predict(inputs_NGC6341_b.values)\n",
    "\n",
    "\n",
    "##############################\n",
    "## NGC 6205 ##\n",
    "##############################\n",
    "criteria = criteria_function(inputs_NGC6205, 0.13, 2.5, 0)\n",
    "inputs_NGC6205 = inputs_NGC6205[criteria]\n",
    "inputs_NGC6205 = (inputs_NGC6205.dropna())\n",
    "inputs_NGC6205_b = change_to_colour(inputs_NGC6205, inputs_col)\n",
    "inputs_NGC6205['dwarf'] =  rf.predict_proba(inputs_NGC6205_b.values)[:,0]\n",
    "inputs_NGC6205['giant'] =  rf.predict_proba(inputs_NGC6205_b.values)[:,1]\n",
    "inputs_NGC6205['class_binary'] =  rf.predict(inputs_NGC6205_b.values)\n",
    "\n",
    "##############################\n",
    "## NGC 5466 ##\n",
    "##############################\n",
    "criteria = criteria_function(inputs_NGC5466, 0.26, 2.5, 0)\n",
    "inputs_NGC5466 = inputs_NGC5466[criteria]\n",
    "inputs_NGC5466 = (inputs_NGC5466.dropna())\n",
    "inputs_NGC5466_b = change_to_colour(inputs_NGC5466, inputs_col)\n",
    "inputs_NGC5466['dwarf'] =  rf.predict_proba(inputs_NGC5466_b.values)[:,0]\n",
    "inputs_NGC5466['giant'] =  rf.predict_proba(inputs_NGC5466_b.values)[:,1]\n",
    "inputs_NGC5466['class_binary'] =  rf.predict(inputs_NGC5466_b.values)\n",
    "\n",
    "##############################\n",
    "## NGC 5272 ##\n",
    "##############################\n",
    "criteria = criteria_function(inputs_NGC5272, 0.14, 2.5, 0)\n",
    "inputs_NGC5272 = inputs_NGC5272[criteria]\n",
    "inputs_NGC5272 = (inputs_NGC5272.dropna())\n",
    "inputs_NGC5272_b = change_to_colour(inputs_NGC5272, inputs_col)\n",
    "inputs_NGC5272['dwarf'] =  rf.predict_proba(inputs_NGC5272_b.values)[:,0]\n",
    "inputs_NGC5272['giant'] =  rf.predict_proba(inputs_NGC5272_b.values)[:,1]\n",
    "inputs_NGC5272['class_binary'] =  rf.predict(inputs_NGC5272_b.values)"
   ]
  },
  {
   "cell_type": "markdown",
   "metadata": {
    "collapsed": true
   },
   "source": [
    "### Plot the CMDs with color-coded predictions of dwarf or giant.\n",
    "#### Show the luminosity function for the probability prediction, as well as the binary prediction of the model\n",
    "---\n",
    "### Warning! Is computationally heavy!"
   ]
  },
  {
   "cell_type": "code",
   "execution_count": null,
   "metadata": {},
   "outputs": [],
   "source": [
    "# Warning, takes a while to run..........\n",
    "\n",
    "fig, ax = plt.subplots(4, 2, figsize=(10, 15),  sharex='col', sharey='row')\n",
    "\n",
    "NGC6341_probs = prob_frac(0.5, inputs_NGC6341)\n",
    "ax[0, 0].scatter((inputs_NGC6341['u']-inputs_NGC6341['G']).values, inputs_NGC6341['G'].values, s=0.75, c=inputs_NGC6341['dwarf'], cmap=plt.cm.coolwarm)\n",
    "ax[0, 1].scatter(NGC6341_probs[0], NGC6341_probs[2], s=0.75, color='red', label='RF Predicted Probability')\n",
    "ax[0, 1].scatter(NGC6341_probs[1], NGC6341_probs[2], s=0.75, color='red')\n",
    "ax[0, 1].scatter(lum_frac(.5, inputs_NGC6341)[2], lum_frac(.5, inputs_NGC6341)[0], s=0.75, color='blue')\n",
    "ax[0, 1].scatter(lum_frac(.5, inputs_NGC6341)[1], lum_frac(.5, inputs_NGC6341)[0], s=0.75, color='blue', label='Fraction in GC')\n",
    "ax[0, 1].legend()\n",
    "ax[0, 0].set_ylabel('G')\n",
    "ax[0, 0].invert_yaxis()\n",
    "\n",
    "NGC6205_probs = prob_frac(0.5, inputs_NGC6205)\n",
    "ax[1, 0].scatter((inputs_NGC6205['u']-inputs_NGC6205['G']).values, inputs_NGC6205['G'].values, s=0.75, c=inputs_NGC6205['dwarf'], cmap=plt.cm.coolwarm)\n",
    "ax[1, 1].scatter(NGC6205_probs[0], NGC6205_probs[2], s=0.75, color='red')\n",
    "ax[1, 1].scatter(NGC6205_probs[1], NGC6205_probs[2], s=0.75, color='red')\n",
    "ax[1, 1].scatter(lum_frac(.5, inputs_NGC6205)[2], lum_frac(.5, inputs_NGC6205)[0], s=0.75, color='blue')\n",
    "ax[1, 1].scatter(lum_frac(.5, inputs_NGC6205)[1], lum_frac(.5, inputs_NGC6205)[0], s=0.75, color='blue')\n",
    "ax[1, 0].set_ylabel('G')\n",
    "ax[1, 0].invert_yaxis()\n",
    "\n",
    "NGC5466_probs = prob_frac(0.5, inputs_NGC5466)\n",
    "ax[2, 0].scatter((inputs_NGC5466['u']-inputs_NGC5466['G']).values, inputs_NGC5466['G'].values, s=0.75, c=inputs_NGC5466['dwarf'], cmap=plt.cm.coolwarm)\n",
    "ax[2, 1].scatter(NGC5466_probs[0], NGC5466_probs[2], s=0.75, color='red')\n",
    "ax[2, 1].scatter(NGC5466_probs[1], NGC5466_probs[2], s=0.75, color='red')\n",
    "ax[2, 1].scatter(lum_frac(.5, inputs_NGC5466)[2], lum_frac(.5, inputs_NGC5466)[0], s=0.75, color='blue')\n",
    "ax[2, 1].scatter(lum_frac(.5, inputs_NGC5466)[1], lum_frac(.5, inputs_NGC5466)[0], s=0.75, color='blue')\n",
    "ax[2, 0].set_ylabel('G')\n",
    "ax[2, 0].invert_yaxis()\n",
    "\n",
    "NGC5272_probs = prob_frac(0.5, inputs_NGC5272)\n",
    "ax[3, 0].scatter((inputs_NGC5272['u']-inputs_NGC5272['G']).values, inputs_NGC5272['G'].values, s=0.75, c=inputs_NGC5272['dwarf'], cmap=plt.cm.coolwarm)\n",
    "ax[3, 1].scatter(NGC5272_probs[0], NGC5272_probs[2], s=0.75, color='red')\n",
    "ax[3, 1].scatter(NGC5272_probs[1], NGC5272_probs[2], s=0.75, color='red')\n",
    "ax[3, 1].scatter(lum_frac(.5, inputs_NGC5272)[2], lum_frac(.5, inputs_NGC5272)[0], s=0.75, color='blue')\n",
    "ax[3, 1].scatter(lum_frac(.5, inputs_NGC5272)[1], lum_frac(.5, inputs_NGC5272)[0], s=0.75, color='blue')\n",
    "ax[3, 0].invert_yaxis()\n",
    "ax[3, 0].set_ylabel('G')\n",
    "ax[3, 0].set_xlabel('u-G')\n",
    "ax[3, 1].set_xlabel('Probability')\n",
    "plt.savefig('./plots/rf_col/random_forrest')"
   ]
  },
  {
   "cell_type": "markdown",
   "metadata": {},
   "source": [
    "### Synthesize the lime results by reporting how important the features were for a fraction of the instances in the training set."
   ]
  },
  {
   "cell_type": "code",
   "execution_count": null,
   "metadata": {},
   "outputs": [],
   "source": [
    "# KEEP FRAC SMALL UNLESS YOU WANT TO CALCULATE THIS FOR A LONG TIME!\n",
    "# 0.001 is overly small, but is meant for testing and not for evaluating.\n",
    "frac = 0.001\n",
    "lime_synthesizer(rf, inputf_test, inputf_train, 1, 0,frac=0.001)"
   ]
  },
  {
   "cell_type": "markdown",
   "metadata": {},
   "source": [
    "### Create a luminosity function the same was as for the Globular Clusters. "
   ]
  },
  {
   "cell_type": "code",
   "execution_count": null,
   "metadata": {},
   "outputs": [],
   "source": [
    "fig, ax = plt.subplots(1, 2, figsize=(10, 10),  sharex='col', sharey='row')\n",
    "\n",
    "input_full_test = (input_full_test.dropna())\n",
    "input_full_test_b = change_to_colour(input_full_test, inputs_col)\n",
    "input_full_test['dwarf'] =  rf.predict_proba(input_full_test_b.values)[:,0]\n",
    "input_full_test['giant'] =  rf.predict_proba(input_full_test_b.values)[:,1]\n",
    "input_full_test['class_binary'] =  rf.predict(input_full_test_b.values)\n",
    "\n",
    "\n",
    "mw_probs = prob_frac(0.5, input_full_test)\n",
    "ax[0].scatter((input_full_test['u']-input_full_test['G']).values, input_full_test['G'].values, s=0.75, c=input_full_test['dwarf'], cmap=plt.cm.coolwarm)\n",
    "ax[1].scatter(mw_probs[0], mw_probs[2], s=0.75, color='red', label='RF Predicted Probability')\n",
    "ax[1].scatter(mw_probs[1], mw_probs[2], s=0.75, color='red')\n",
    "ax[1].scatter(lum_frac(.5, input_full_test)[2], lum_frac(.5, input_full_test)[0], s=0.75, color='blue')\n",
    "ax[1].scatter(lum_frac(.5, input_full_test)[1], lum_frac(.5, input_full_test)[0], s=0.75, color='blue', label='Fraction in GC')\n",
    "ax[1].legend()\n",
    "ax[0].set_ylabel('G')\n",
    "ax[0].invert_yaxis()\n",
    "plt.savefig('./plots/mw_lum_frac')"
   ]
  }
 ],
 "metadata": {
  "kernelspec": {
   "display_name": "Python 2",
   "language": "python",
   "name": "python2"
  },
  "language_info": {
   "codemirror_mode": {
    "name": "ipython",
    "version": 2
   },
   "file_extension": ".py",
   "mimetype": "text/x-python",
   "name": "python",
   "nbconvert_exporter": "python",
   "pygments_lexer": "ipython2",
   "version": "2.7.15"
  }
 },
 "nbformat": 4,
 "nbformat_minor": 2
}
